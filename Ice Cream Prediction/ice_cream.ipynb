{
 "cells": [
  {
   "cell_type": "code",
   "execution_count": 1,
   "id": "33bba790",
   "metadata": {},
   "outputs": [],
   "source": [
    "import pandas as pd\n",
    "import numpy as np\n",
    "from sklearn.model_selection import train_test_split\n",
    "from sklearn.preprocessing import PolynomialFeatures\n",
    "from sklearn.linear_model import LinearRegression\n",
    "from sklearn.metrics import r2_score, mean_squared_error, mean_absolute_error"
   ]
  },
  {
   "cell_type": "code",
   "execution_count": 2,
   "id": "c777a420",
   "metadata": {},
   "outputs": [],
   "source": [
    "# Load the dataset\n",
    "df = pd.read_csv(\"Ice_cream selling data.csv\")"
   ]
  },
  {
   "cell_type": "code",
   "execution_count": 3,
   "id": "2600959f",
   "metadata": {},
   "outputs": [],
   "source": [
    "# Seperate features (X) and target (Y)\n",
    "X = df[['Temperature (°C)']]\n",
    "Y = df['Ice Cream Sales (units)']"
   ]
  },
  {
   "cell_type": "code",
   "execution_count": 4,
   "id": "83e20901",
   "metadata": {},
   "outputs": [],
   "source": [
    "# Split data into training and testing sets\n",
    "X_train, X_test, Y_train, Y_test = train_test_split(X, Y, test_size = 0.2, random_state = 20)"
   ]
  },
  {
   "cell_type": "code",
   "execution_count": 5,
   "id": "0ab72de8",
   "metadata": {},
   "outputs": [],
   "source": [
    "# Iterate through different polynomial degrees\n",
    "best_degree = 1\n",
    "best_r2 = -1\n",
    "results = {}"
   ]
  },
  {
   "cell_type": "code",
   "execution_count": 6,
   "id": "6e4ef607",
   "metadata": {},
   "outputs": [
    {
     "name": "stdout",
     "output_type": "stream",
     "text": [
      "-0.03947590108865029\n",
      "0.9568457914775634\n",
      "0.9433713647215005\n",
      "0.9702708883672484\n",
      "0.9562025935380905\n",
      "\n",
      "Best degree: 4\n",
      "Best R-squared: 0.9702708883672484\n",
      "30.10627279270955\n"
     ]
    },
    {
     "name": "stderr",
     "output_type": "stream",
     "text": [
      "c:\\Users\\dipen\\anaconda3\\Lib\\site-packages\\sklearn\\base.py:493: UserWarning: X does not have valid feature names, but PolynomialFeatures was fitted with feature names\n",
      "  warnings.warn(\n"
     ]
    }
   ],
   "source": [
    "for degree in range(1, 6):\n",
    "    poly = PolynomialFeatures(degree=degree)\n",
    "    X_train_poly = poly.fit_transform(X_train)\n",
    "    X_test_poly = poly.transform(X_test)\n",
    "\n",
    "    model = LinearRegression()\n",
    "    model.fit(X_train_poly, Y_train)\n",
    "\n",
    "    Y_pred = model.predict(X_test_poly)\n",
    "    r2 = r2_score(Y_test, Y_pred)\n",
    "    print(r2)\n",
    "\n",
    "    if r2 > best_r2:\n",
    "        best_r2 = r2\n",
    "        best_degree = degree\n",
    "print(f\"\\nBest degree: {best_degree}\")\n",
    "print(f\"Best R-squared: {best_r2}\")\n",
    "\n",
    "# Predict for temperature of 4 degrees using the best model\n",
    "poly = PolynomialFeatures(degree=best_degree)\n",
    "X_train_poly = poly.fit_transform(X_train)\n",
    "X_test_poly = poly.transform(X_test)\n",
    "\n",
    "model = LinearRegression()\n",
    "model.fit(X_train_poly, Y_train)\n",
    "\n",
    "Y_pred = model.predict(X_test_poly)\n",
    "r2 = r2_score(Y_test, Y_pred)\n",
    "prediction=model.predict(poly.transform(np.array([[4]])))\n",
    "print(prediction[0])"
   ]
  }
 ],
 "metadata": {
  "kernelspec": {
   "display_name": "base",
   "language": "python",
   "name": "python3"
  },
  "language_info": {
   "codemirror_mode": {
    "name": "ipython",
    "version": 3
   },
   "file_extension": ".py",
   "mimetype": "text/x-python",
   "name": "python",
   "nbconvert_exporter": "python",
   "pygments_lexer": "ipython3",
   "version": "3.12.7"
  }
 },
 "nbformat": 4,
 "nbformat_minor": 5
}
