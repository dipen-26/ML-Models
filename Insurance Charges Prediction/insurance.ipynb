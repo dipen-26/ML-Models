{
 "cells": [
  {
   "cell_type": "code",
   "execution_count": 59,
   "id": "1cddc832",
   "metadata": {},
   "outputs": [],
   "source": [
    "# import necessary libraries\n",
    "import pandas as pd\n",
    "import numpy as np\n",
    "from sklearn.model_selection import train_test_split\n",
    "from sklearn.linear_model import LinearRegression\n",
    "from sklearn.metrics import r2_score, mean_squared_error"
   ]
  },
  {
   "cell_type": "code",
   "execution_count": 60,
   "id": "51fe496f",
   "metadata": {},
   "outputs": [],
   "source": [
    "# Load dataset\n",
    "df = pd.read_csv('insurance.csv')"
   ]
  },
  {
   "cell_type": "code",
   "execution_count": 61,
   "id": "74834c9c",
   "metadata": {},
   "outputs": [],
   "source": [
    "# Categorize BMI\n",
    "df['bmi'] = np.where(df.bmi < 18.5, 'Underweight',\n",
    "            np.where(df.bmi < 25, 'Normal weight',\n",
    "            np.where(df.bmi < 30, 'Overweight', 'Obese')))"
   ]
  },
  {
   "cell_type": "code",
   "execution_count": 62,
   "id": "38bb2b2d",
   "metadata": {},
   "outputs": [],
   "source": [
    "# One-Hot Encoding\n",
    "df = pd.get_dummies(df)"
   ]
  },
  {
   "cell_type": "code",
   "execution_count": 63,
   "id": "a6220558",
   "metadata": {},
   "outputs": [],
   "source": [
    "# Features and Target \n",
    "X = df.drop('expenses', axis = 1)\n",
    "Y = df['expenses']"
   ]
  },
  {
   "cell_type": "code",
   "execution_count": 64,
   "id": "504efe2d",
   "metadata": {},
   "outputs": [],
   "source": [
    "# Lists to try different test sizes and random states\n",
    "test_sizes = [0.1, 0.2, 0.3, 0.4, 0.5]\n",
    "random_states = range(1,50)"
   ]
  },
  {
   "cell_type": "code",
   "execution_count": 65,
   "id": "ab5d68ba",
   "metadata": {},
   "outputs": [],
   "source": [
    "# Variables to track best models\n",
    "best_r2 = -1\n",
    "best_r2_model = None\n",
    "best_r2_details = None"
   ]
  },
  {
   "cell_type": "code",
   "execution_count": 66,
   "id": "77759afb",
   "metadata": {},
   "outputs": [],
   "source": [
    "best_mse = float('inf')\n",
    "best_mse_model = None\n",
    "best_mse_details = None"
   ]
  },
  {
   "cell_type": "code",
   "execution_count": 67,
   "id": "c0fd6d2b",
   "metadata": {},
   "outputs": [],
   "source": [
    "# Model training and evaluation\n",
    "for test_size in test_sizes:\n",
    "    for random_state in random_states:\n",
    "        # Split data\n",
    "        X_train, X_test, Y_train, Y_test = train_test_split(X, Y, test_size = test_size, random_state = random_state)\n",
    "        # Build and train the model\n",
    "        model = LinearRegression()\n",
    "        model.fit(X_train, Y_train)\n",
    "\n",
    "        # Predict\n",
    "        Y_pred = model.predict(X_test)\n",
    "\n",
    "        # Evaluate\n",
    "        r2 = r2_score(Y_test, Y_pred) \n",
    "        mse = mean_squared_error(Y_test, Y_pred)\n",
    "\n",
    "        # Update best R2\n",
    "        if r2 > best_r2:\n",
    "            best_r2 = r2\n",
    "            best_r2_model = model\n",
    "            best_r2_details = (test_size, random_state)\n",
    "\n",
    "        # Update best MSE\n",
    "        if mse < best_mse:\n",
    "            best_mse = mse\n",
    "            best_mse_model = model\n",
    "            best_mse_details = (test_size, random_state)"
   ]
  },
  {
   "cell_type": "code",
   "execution_count": 68,
   "id": "3d75e13a",
   "metadata": {},
   "outputs": [
    {
     "name": "stdout",
     "output_type": "stream",
     "text": [
      "\n",
      " ========================== Best Results ==========================\n",
      "Maximum R2 Score: 0.8371 acheived at Test size = 0.1, Random State = 47\n",
      "Minimum MSE: 25552118.79 acheived at Test size = 0.1, Random State = 11\n"
     ]
    }
   ],
   "source": [
    "# -----------------------------------------------------------------------------\n",
    "# Show best results\n",
    "print(\"\\n ========================== Best Results ==========================\")\n",
    "print(f\"Maximum R2 Score: {best_r2:.4f} acheived at Test size = {best_r2_details[0]}, Random State = {best_r2_details[1]}\")\n",
    "print(f\"Minimum MSE: {best_mse:.2f} acheived at Test size = {best_mse_details[0]}, Random State = {best_mse_details[1]}\")"
   ]
  },
  {
   "cell_type": "code",
   "execution_count": 69,
   "id": "30f7104e",
   "metadata": {},
   "outputs": [],
   "source": [
    "# -----------------------------------------------------------------------------\n",
    "# Now predict for new person using best models\n",
    "\n",
    "# Create input data\n",
    "new_data = {\n",
    "    'age': [34],\n",
    "    'children': [3],\n",
    "    'sex_female': [0],\n",
    "    'sex_male': [1],\n",
    "    'bmi_Normal weight': [0],\n",
    "    'bmi_Obese': [0],\n",
    "    'bmi_Overweight': [1], # BMI=26 --> Overweight\n",
    "    'bmi_Underweight': [0],\n",
    "    'smoker_no': [0],\n",
    "    'smoker_yes': [1],\n",
    "    'region_northeast': [0],\n",
    "    'region_northwest': [0],\n",
    "    'region_southeast': [0],\n",
    "    'region_southwest': [1]\n",
    "}"
   ]
  },
  {
   "cell_type": "code",
   "execution_count": 70,
   "id": "42d0f2be",
   "metadata": {},
   "outputs": [],
   "source": [
    "# Convert to dataframe\n",
    "new_df = pd.DataFrame(new_data)"
   ]
  },
  {
   "cell_type": "code",
   "execution_count": 71,
   "id": "54c8b1ea",
   "metadata": {},
   "outputs": [],
   "source": [
    "# Make sure columns match training data\n",
    "missing_cols = set(X.columns) - set(new_df.columns)\n",
    "for col in missing_cols:\n",
    "    new_df[col] = 0 # Add missing columns with 0"
   ]
  },
  {
   "cell_type": "code",
   "execution_count": 72,
   "id": "348b47d9",
   "metadata": {},
   "outputs": [],
   "source": [
    "# Reorder columns to match training set\n",
    "new_df = new_df[X.columns]"
   ]
  },
  {
   "cell_type": "code",
   "execution_count": 73,
   "id": "f159ee3f",
   "metadata": {},
   "outputs": [
    {
     "name": "stdout",
     "output_type": "stream",
     "text": [
      "\n",
      "Predicted insurance charges using best R2 Model: $29273.45\n"
     ]
    }
   ],
   "source": [
    "# Predict using best R2 model\n",
    "predicted_charger_r2 = best_r2_model.predict(new_df)\n",
    "print(\"\\nPredicted insurance charges using best R2 Model: ${:.2f}\".format(predicted_charger_r2[0]))"
   ]
  },
  {
   "cell_type": "code",
   "execution_count": 74,
   "id": "b55de89f",
   "metadata": {},
   "outputs": [
    {
     "name": "stdout",
     "output_type": "stream",
     "text": [
      "Predicted Insurance Charge using Best MSE Model: $29128.00\n"
     ]
    }
   ],
   "source": [
    "# Predict using best MSE model\n",
    "predicted_charge_mse = best_mse_model.predict(new_df)\n",
    "print(\"Predicted Insurance Charge using Best MSE Model: ${:.2f}\".format(predicted_charge_mse[0]))"
   ]
  }
 ],
 "metadata": {
  "kernelspec": {
   "display_name": "base",
   "language": "python",
   "name": "python3"
  },
  "language_info": {
   "codemirror_mode": {
    "name": "ipython",
    "version": 3
   },
   "file_extension": ".py",
   "mimetype": "text/x-python",
   "name": "python",
   "nbconvert_exporter": "python",
   "pygments_lexer": "ipython3",
   "version": "3.12.7"
  }
 },
 "nbformat": 4,
 "nbformat_minor": 5
}
